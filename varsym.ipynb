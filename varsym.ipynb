{
 "cells": [
  {
   "cell_type": "markdown",
   "metadata": {},
   "source": [
    "This code constructs pluri-Lagrangian stuctures using variational symmetries, as described in\n",
    "\n",
    "\tM. Petrera and M. Vermeeren. Variational symmetries and pluri-Lagrangian structures for integrable hierarchies of PDEs, 2019.\n",
    "\n",
    "### Parameters ###\n",
    "\n",
    "Specify which hierarchy of PDEs, how many members of the hierarchy, checks to be performed and output requested."
   ]
  },
  {
   "cell_type": "code",
   "execution_count": 4,
   "metadata": {
    "collapsed": false
   },
   "outputs": [],
   "source": [
    "### HIERARCHY\n",
    "switch = 'KdV'\n",
    "# Options: lin,KdV, NLS, SG\n",
    "\n",
    "\n",
    "### DIMENSION OF MULTI-TIME\n",
    "numtimes = 3\n",
    "# minimum 3\n",
    "\n",
    "\n",
    "### CHECKS\n",
    "\n",
    "# Verify commutativity of input equations?\n",
    "checkcomm = True\n",
    "# This also checks if input equations solve EL for given Lagrangians,\n",
    "# although in multicomponent systems only for the first component.\n",
    "\n",
    "# To which order to check multi-time EL equations\n",
    "elcheckdepth = numtimes\n",
    "\n",
    "\n",
    "### REQUESTED OUTPUT\n",
    "\n",
    "# Show output as pdf?\n",
    "viewpdf = False\n",
    "\n",
    "# Print EL equations even if they are satisfied?\n",
    "viewELeqs = False\n",
    "\n",
    "# Save logs\n",
    "save = False"
   ]
  },
  {
   "cell_type": "markdown",
   "metadata": {},
   "source": [
    "### Other input ###\n",
    "Changing this might break things"
   ]
  },
  {
   "cell_type": "code",
   "execution_count": 5,
   "metadata": {
    "collapsed": false
   },
   "outputs": [],
   "source": [
    "### Include even-numbered times?\n",
    "even = True\n",
    "\n",
    "\n",
    "### SET EQUATION DEPENDENT PARAMETERS\n",
    "\n",
    "# weights = [order of eqn in t_i for i in [1..numtimes]]\n",
    "\n",
    "if switch == 'KdV' or switch == 'lin':\n",
    "\tweights = [2*i-1 for i in [1..numtimes]]\n",
    "\tcomponents = 1\n",
    "if switch == 'NLS':\n",
    "\tweights = [1..numtimes]\n",
    "\tcomponents = 2\n",
    "\tvarnames = [\"v\",\"\\\\bar v\"]\n",
    "if switch == 'SG':\n",
    "\tweights = [1,1] + [2*i-1 for i in [2..numtimes-1]]\n",
    "\tcomponents = 1\n",
    "\tvarnames = [\"v\",\"\\\\bar v\"]\n",
    "\n",
    "\n",
    "### LIST OF INPUT LAGRANGIANS\n",
    "\n",
    "#laglist = [L_11, L_12, ...]\n",
    "#pde = [{i: v_i == ...} for each component]\n",
    "#constraints = [equations of non-evolutionary type]\n",
    "\n",
    "def get_input(switch):\n",
    "    constraints = []\n",
    "    ###\n",
    "    ###\n",
    "    if switch == 'lin':\n",
    "        if numtimes == 3:\n",
    "            pde = [{2: v_2 == v_111, 3: v_3 == v_11111}]\n",
    "            laglist = [0, v_1*v_2 - v_1*v_111, v_1*v_3 - v_1*v_11111]\n",
    "        elif numtimes == 4:\n",
    "            pde = [{2: v_2 == v_111, 3: v_3 == v_11111, 4: v_4 == v_1111111}]\n",
    "            laglist = [0, v_1*v_2 - v_1*v_111, v_1*v_3 - v_1*v_11111, v_1*v_4 - v_1*v_1111111]\n",
    "        else:\n",
    "            pde = [{}]\n",
    "            laglist = [0]\n",
    "    ###\n",
    "    ###\n",
    "    if switch == 'KdV':\n",
    "        laglist = [0, 1/2*v_1*v_2 - v_1^3 - 1/2*v_1*v_111, \n",
    "            1/2*v_1*v_3 - 5/2*v_1^4 + 5*v_1*v_11^2 - 1/2*v_111^2]\n",
    "        pde = [{2: v_2 == 3*v_1^2 + v_111, 3: v_3 == 10*v_1^3 + 5*v_11^2 + 10*v_1*v_111 + v_11111}]\n",
    "    ###\n",
    "    ###\n",
    "    if switch == 'NLS':\n",
    "        k = 1\n",
    "        laglist = [0, I/2*(v2_*v1_2 - v1_*v2_2) - v2_1*v1_1 - k*(v1_*v2_)^2,\n",
    "            I/2*(v2_*v1_3 - v1_*v2_3) + I/2*(v2_1*v1_11 - v1_1*v2_11) - 3/2*I*k*(v1_*v2_)*(v2_1*v1_ - v1_1*v2_)]\n",
    "        pde = [{2: v1_2 == I*v1_11 - 2*I*k*v1_*v2_*v1_, 3: v1_3 == v1_111 - 6*k*v1_*v2_*v1_1},\n",
    "            {2: v2_2 == -I*v2_11 + 2*I*k*v2_*v1_*v2_, 3: v2_3 == v2_111 - 6*k*v2_*v1_*v2_1}]\n",
    "    ###\n",
    "    ###\n",
    "    if switch == 'SG':\n",
    "        laglist = [0, 1/2*v_1*v_2 - cos(v_), 1/2*v_1*v_3 - 1/8*v_1^4 + 1/2*v_11^2, 1/2*v_1*v_4 - 1/16*v_1^6 - 5/12*v_1^3*v_111 - 1/2*v_111^2]\n",
    "        if numtimes == 3:\n",
    "            pde = [{3: v_3 == v_111 + 1/2*v_1^3}]\n",
    "        elif numtimes == 4:\n",
    "            pde = [{3: v_3 == v_111 + 1/2*v_1^3, 4: v_4 == v_11111 + 5/2*v_1^2*v_111 + 5/2*v_1*v_11^2 + 3/8*v_1^5}]\n",
    "        else:\n",
    "            pde = [{}]\n",
    "        constraints = [v_12 == sin(v_)]\n",
    "    ###\n",
    "    ###\n",
    "    return [laglist,pde,constraints]"
   ]
  },
  {
   "cell_type": "markdown",
   "metadata": {},
   "source": [
    "### Construct pluri-Lagrangian 2-form ###"
   ]
  },
  {
   "cell_type": "code",
   "execution_count": 6,
   "metadata": {
    "collapsed": false
   },
   "outputs": [
    {
     "name": "stdout",
     "output_type": "stream",
     "text": [
      "0.00s: KdV\n",
      "0.00s: Equations:\n",
      "\n",
      "v_2 == 3*v_1^2 + v_111\n",
      "\n",
      "\n",
      "v_3 == 10*v_1^3 + 5*v_11^2 + 10*v_1*v_111 + v_11111\n",
      "\n",
      "3\n",
      "0.45s: PDEs for t2 and t3 commute.\n",
      "0.52s: dL\n",
      "\n",
      "[                                                                                                                                                                                                                                          0                                                                                                                                                                                                                                           0                                                                                                                                                                                                                                           0]\n",
      "[                                                                                                                                                                                                                                          0                                                                                                                                                                                                                                           0 15*v_1^4*v_11 + 135*v_1*v_11^3 + 210*v_1^2*v_11*v_111 + 25*v_1^3*v_1111 - 18*v_11*v_111^2 + 15/2*v_11^2*v_1111 + 34*v_1*v_111*v_1111 + 33*v_1*v_11*v_11111 + 13/2*v_1^2*v_111111 + 1/2*v_1111*v_11111 - v_111*v_111111 + 1/2*v_1*v_11111111]\n",
      "[                                                                                                                                                                                                                                          0                                                                                                                                                                                                                                           0                                                                                                                                                                                                                                           0]\n",
      "\n",
      "0.76s: F\n",
      "\n",
      "[                                                                                                                                                                                                     0                                                                                                                                                                                                      0                                                                                                                                                                                                      0]\n",
      "[                                                                                                                                                                                                     0                                                                                                                                                                                                      0 3*v_1^5 + 135/2*v_1^2*v_11^2 + 25*v_1^3*v_111 - 25/2*v_11^2*v_111 + 7*v_1*v_111^2 + 20*v_1*v_11*v_1111 + 13/2*v_1^2*v_11111 + 1/2*v_1111^2 - 1/2*v_111*v_11111 - 1/2*v_11*v_111111 + 1/2*v_1*v_1111111]\n",
      "[                                                                                                                                                                                                     0                                                                                                                                                                                                      0                                                                                                                                                                                                      0]\n",
      "\n",
      "1.08s: Lagrangian 2-form\n",
      "\n",
      "[                                                                                                                                                                                                                                                                                                                                           0                                                                                                                                                                                                                                                                                                         -v_1^3 - 1/2*v_1*v_111 + 1/2*v_1*v_2                                                                                                                                                                                                                                                                                        -5/2*v_1^4 + 5*v_1*v_11^2 - 1/2*v_111^2 + 1/2*v_1*v_3]\n",
      "[                                                                                                                                                                                                                                                                                                                                           0                                                                                                                                                                                                                                                                                                                                            0 3*v_1^5 - 15/2*v_1^2*v_11^2 + 10*v_1^3*v_111 - 5*v_1^3*v_2 + 7/2*v_11^2*v_111 + 3*v_1*v_111^2 - 6*v_1*v_11*v_1111 + 3/2*v_1^2*v_11111 + 10*v_1*v_11*v_12 - 5/2*v_11^2*v_2 - 5*v_1*v_111*v_2 + 3/2*v_1^2*v_3 - 1/2*v_1111^2 + 1/2*v_111*v_11111 - v_111*v_112 + 1/2*v_1*v_113 + v_1111*v_12 - 1/2*v_11*v_13 - 1/2*v_11111*v_2 + 1/2*v_111*v_3]\n",
      "[                                                                                                                                                                                                                                                                                                                                           0                                                                                                                                                                                                                                                                                                                                            0                                                                                                                                                                                                                                                                                                                                            0]\n",
      "\n",
      "1.09s: EL check...\n",
      "4.77s: EL check successful.\n"
     ]
    }
   ],
   "source": [
    "load(\"varsym.sage\")"
   ]
  },
  {
   "cell_type": "code",
   "execution_count": null,
   "metadata": {
    "collapsed": true
   },
   "outputs": [],
   "source": []
  }
 ],
 "metadata": {
  "kernelspec": {
   "display_name": "SageMath 8.1",
   "language": "",
   "name": "sagemath"
  },
  "language_info": {
   "codemirror_mode": {
    "name": "ipython",
    "version": 2
   },
   "file_extension": ".py",
   "mimetype": "text/x-python",
   "name": "python",
   "nbconvert_exporter": "python",
   "pygments_lexer": "ipython2",
   "version": "2.7.14"
  }
 },
 "nbformat": 4,
 "nbformat_minor": 2
}
